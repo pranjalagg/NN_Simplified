{
  "cells": [
    {
      "cell_type": "code",
      "execution_count": 2,
      "metadata": {
        "id": "fLomBerfmN2n"
      },
      "outputs": [],
      "source": [
        "import numpy as np\n",
        "import matplotlib.pyplot as plt\n",
        "import math"
      ]
    },
    {
      "cell_type": "code",
      "execution_count": 3,
      "metadata": {
        "id": "wgGwU5alj5uP"
      },
      "outputs": [],
      "source": [
        "def func(x):\n",
        "    return 2*x**2 + 4*x -2"
      ]
    },
    {
      "cell_type": "code",
      "execution_count": 4,
      "metadata": {
        "colab": {
          "base_uri": "https://localhost:8080/"
        },
        "id": "EQ8grreyl8uB",
        "outputId": "86f4e45e-d485-4695-a059-5fbd6fcaf6fb"
      },
      "outputs": [
        {
          "data": {
            "text/plain": [
              "46"
            ]
          },
          "execution_count": 4,
          "metadata": {},
          "output_type": "execute_result"
        }
      ],
      "source": [
        "func(4)"
      ]
    },
    {
      "cell_type": "code",
      "execution_count": 5,
      "metadata": {
        "id": "LcUeKd2vl_FR"
      },
      "outputs": [],
      "source": [
        "# Plot a graph of the function\n",
        "x_vals = np.arange(-10, 10, 0.25)\n",
        "y_vals = func(x_vals)"
      ]
    },
    {
      "cell_type": "code",
      "execution_count": 6,
      "metadata": {
        "colab": {
          "base_uri": "https://localhost:8080/",
          "height": 447
        },
        "id": "LDvfCeosmYX6",
        "outputId": "59c4bec0-db89-4311-e879-b975ad478797"
      },
      "outputs": [
        {
          "data": {
            "text/plain": [
              "[<matplotlib.lines.Line2D at 0x7f85accb5f90>]"
            ]
          },
          "execution_count": 6,
          "metadata": {},
          "output_type": "execute_result"
        },
        {
          "data": {
            "image/png": "[encoded data removed]",
            "text/plain": [
              "<Figure size 640x480 with 1 Axes>"
            ]
          },
          "metadata": {},
          "output_type": "display_data"
        }
      ],
      "source": [
        "plt.plot(x_vals, y_vals)"
      ]
    },
    {
      "cell_type": "code",
      "execution_count": 7,
      "metadata": {
        "colab": {
          "base_uri": "https://localhost:8080/"
        },
        "id": "AVCeRX-8maJy",
        "outputId": "d34f6348-314c-4e5e-b0fa-77a09046eac9"
      },
      "outputs": [
        {
          "name": "stdout",
          "output_type": "stream",
          "text": [
            "24.016344468691386\n"
          ]
        }
      ],
      "source": [
        "# Finding slope\n",
        "h = 0.0000000000001 # h os tending to 0\n",
        "x = 5\n",
        "slope = (func(x + h) - func(x)) / h\n",
        "print(slope)"
      ]
    },
    {
      "cell_type": "code",
      "execution_count": 8,
      "metadata": {
        "colab": {
          "base_uri": "https://localhost:8080/"
        },
        "id": "joZb_j3mmzkK",
        "outputId": "1ba37605-ce30-4695-94c0-01140b1b987a"
      },
      "outputs": [
        {
          "name": "stdout",
          "output_type": "stream",
          "text": [
            "\n",
            "d1 -10.0\n",
            "d2 -10.0000000007\n",
            "slope -7.000000579182597\n",
            "\n",
            "d1 -10.0000000007\n",
            "d2 -10.0000000005\n",
            "slope 2.000000165480742\n",
            "\n",
            "d1 -10.0000000005\n",
            "d2 -10.0000000004\n",
            "slope 1.000000082740371\n"
          ]
        }
      ],
      "source": [
        "# Calculating partial derivatives\n",
        "h = 0.0000000001\n",
        "\n",
        "# inputs\n",
        "a = 2.0\n",
        "b = -7.0\n",
        "c = 4.0\n",
        "\n",
        "# Expression: a*b + c\n",
        "\n",
        "inp = [a, b, c]\n",
        "for i in range(len(inp)):\n",
        "    d1 = inp[0]*inp[1] + inp[2]\n",
        "    inp[i] += h\n",
        "    d2 = inp[0]*inp[1] + inp[2]\n",
        "    print(\"\\nd1\", d1)\n",
        "    print(\"d2\", d2)\n",
        "    print(\"slope\", (d2 - d1)/h)\n",
        "\n",
        "# The above can be verified if we do a partial derivation of the expression with respect to a, b and c respectively and putting the other values"
      ]
    },
    {
      "cell_type": "code",
      "execution_count": 9,
      "metadata": {
        "id": "dlaOMLB8seYp"
      },
      "outputs": [],
      "source": [
        "class Value:\n",
        "    def __init__(self, data, _children=(), _op='', label=''):\n",
        "        self.data = data\n",
        "        self.grad = 0.0\n",
        "        self._prev = set(_children)\n",
        "        self._op = _op\n",
        "        self.label = label\n",
        "    \n",
        "    def __repr__(self):\n",
        "        return f\"Value(data={self.data})\"\n",
        "    \n",
        "    def __add__(self, other):\n",
        "        return Value(self.data + other.data, (self, other), '+')\n",
        "    \n",
        "    def __mul__(self, other):\n",
        "        return Value(self.data * other.data, (self, other), '*')\n"
      ]
    },
    {
      "cell_type": "code",
      "execution_count": 10,
      "metadata": {},
      "outputs": [
        {
          "name": "stdout",
          "output_type": "stream",
          "text": [
            "Value(data=-10.0)\n",
            "{Value(data=-14.0), Value(data=4.0)}\n",
            "+\n"
          ]
        }
      ],
      "source": [
        "a = Value(2.0)\n",
        "b = Value(-7.0)\n",
        "c = Value(4.0)\n",
        "d = a * b + c\n",
        "print(d)\n",
        "print(d._prev)\n",
        "print(d._op)"
      ]
    },
    {
      "cell_type": "code",
      "execution_count": 11,
      "metadata": {},
      "outputs": [],
      "source": [
        "# Visualize the operations\n",
        "import graphviz\n",
        "from graphviz import Digraph\n",
        "\n",
        "def trace(root):\n",
        "    nodes, edges = set(), set()\n",
        "    def build(v):\n",
        "        if v not in nodes:\n",
        "            nodes.add(v)\n",
        "            for child in v._prev:\n",
        "                edges.add((child, v))\n",
        "                build(child)\n",
        "    \n",
        "    build(root)\n",
        "    return nodes, edges\n",
        "\n",
        "def draw_dot(root):\n",
        "    dot = Digraph(format='svg', graph_attr={'rankdir': 'LR'}) # LR -> Left to right\n",
        "    nodes, edges = trace(root)\n",
        "    for n in nodes:\n",
        "        uid = str(id(n))\n",
        "        # for any value in the graph, create a rectangular ('record') node for it\n",
        "        dot.node(name=uid, label=\"{ %s | data %.4f | grad %.4f }\" % (n.label, n.data, n.grad), shape='record')\n",
        "        if n._op:\n",
        "            # create an op node if this value is a result of some operation\n",
        "            dot.node(name=uid+n._op, label=n._op)\n",
        "            # and connect this node to it\n",
        "            dot.edge(uid+n._op, uid)\n",
        "    for n1, n2 in edges:\n",
        "        # connect n1 to the op node of n2\n",
        "        dot.edge(str(id(n1)), str(id(n2))+n2._op)\n",
        "    \n",
        "    return dot"
      ]
    },
    {
      "cell_type": "code",
      "execution_count": 12,
      "metadata": {},
      "outputs": [
        {
          "data": {
            "text/plain": [
              "Value(data=20.0)"
            ]
          },
          "execution_count": 12,
          "metadata": {},
          "output_type": "execute_result"
        }
      ],
      "source": [
        "a = Value(2.0, label='a')\n",
        "b = Value(-7.0, label='b')\n",
        "c = Value(4.0, label='c')\n",
        "e = a*b; e.label='e'\n",
        "d = e+c; d.label='d'\n",
        "f = Value(-2.0, label='f')\n",
        "L = d*f; L.label='L'\n",
        "L"
      ]
    },
    {
      "cell_type": "code",
      "execution_count": 15,
      "metadata": {},
      "outputs": [
        {
          "data": {
            "image/svg+xml": [
              "<?xml version=\"1.0\" encoding=\"UTF-8\" standalone=\"no\"?>\n",
              "<!DOCTYPE svg PUBLIC \"-//W3C//DTD SVG 1.1//EN\"\n",
              " \"http://www.w3.org/Graphics/SVG/1.1/DTD/svg11.dtd\">\n",
              "<!-- Generated by graphviz version 2.43.0 (0)\n",
              " -->\n",
              "<!-- Title: %3 Pages: 1 -->\n",
              "<svg width=\"1355pt\" height=\"156pt\"\n",
              " viewBox=\"0.00 0.00 1355.00 156.00\" xmlns=\"http://www.w3.org/2000/svg\" xmlns:xlink=\"http://www.w3.org/1999/xlink\">\n",
              "<g id=\"graph0\" class=\"graph\" transform=\"scale(1 1) rotate(0) translate(4 152)\">\n",
              "<title>%3</title>\n",
              "<polygon fill=\"white\" stroke=\"transparent\" points=\"-4,4 -4,-152 1351,-152 1351,4 -4,4\"/>\n",
              "<!-- 140212071486544 -->\n",
              "<g id=\"node1\" class=\"node\">\n",
              "<title>140212071486544</title>\n",
              "<polygon fill=\"none\" stroke=\"black\" points=\"3,-111.5 3,-147.5 234,-147.5 234,-111.5 3,-111.5\"/>\n",
              "<text text-anchor=\"middle\" x=\"15.5\" y=\"-125.8\" font-family=\"Times,serif\" font-size=\"14.00\">a</text>\n",
              "<polyline fill=\"none\" stroke=\"black\" points=\"28,-111.5 28,-147.5 \"/>\n",
              "<text text-anchor=\"middle\" x=\"79\" y=\"-125.8\" font-family=\"Times,serif\" font-size=\"14.00\">data 2.0000</text>\n",
              "<polyline fill=\"none\" stroke=\"black\" points=\"130,-111.5 130,-147.5 \"/>\n",
              "<text text-anchor=\"middle\" x=\"182\" y=\"-125.8\" font-family=\"Times,serif\" font-size=\"14.00\">grad 0.0000</text>\n",
              "</g>\n",
              "<!-- 140212071491392* -->\n",
              "<g id=\"node7\" class=\"node\">\n",
              "<title>140212071491392*</title>\n",
              "<ellipse fill=\"none\" stroke=\"black\" cx=\"300\" cy=\"-101.5\" rx=\"27\" ry=\"18\"/>\n",
              "<text text-anchor=\"middle\" x=\"300\" y=\"-97.8\" font-family=\"Times,serif\" font-size=\"14.00\">*</text>\n",
              "</g>\n",
              "<!-- 140212071486544&#45;&gt;140212071491392* -->\n",
              "<g id=\"edge7\" class=\"edge\">\n",
              "<title>140212071486544&#45;&gt;140212071491392*</title>\n",
              "<path fill=\"none\" stroke=\"black\" d=\"M234.2,-111.61C244.76,-109.96 254.83,-108.39 263.74,-107\"/>\n",
              "<polygon fill=\"black\" stroke=\"black\" points=\"264.3,-110.46 273.64,-105.46 263.22,-103.54 264.3,-110.46\"/>\n",
              "</g>\n",
              "<!-- 140212071487072 -->\n",
              "<g id=\"node2\" class=\"node\">\n",
              "<title>140212071487072</title>\n",
              "<polygon fill=\"none\" stroke=\"black\" points=\"0,-56.5 0,-92.5 237,-92.5 237,-56.5 0,-56.5\"/>\n",
              "<text text-anchor=\"middle\" x=\"13\" y=\"-70.8\" font-family=\"Times,serif\" font-size=\"14.00\">b</text>\n",
              "<polyline fill=\"none\" stroke=\"black\" points=\"26,-56.5 26,-92.5 \"/>\n",
              "<text text-anchor=\"middle\" x=\"79.5\" y=\"-70.8\" font-family=\"Times,serif\" font-size=\"14.00\">data &#45;7.0000</text>\n",
              "<polyline fill=\"none\" stroke=\"black\" points=\"133,-56.5 133,-92.5 \"/>\n",
              "<text text-anchor=\"middle\" x=\"185\" y=\"-70.8\" font-family=\"Times,serif\" font-size=\"14.00\">grad 0.0000</text>\n",
              "</g>\n",
              "<!-- 140212071487072&#45;&gt;140212071491392* -->\n",
              "<g id=\"edge5\" class=\"edge\">\n",
              "<title>140212071487072&#45;&gt;140212071491392*</title>\n",
              "<path fill=\"none\" stroke=\"black\" d=\"M237.23,-92.21C246.6,-93.62 255.52,-94.96 263.52,-96.16\"/>\n",
              "<polygon fill=\"black\" stroke=\"black\" points=\"263.06,-99.63 273.47,-97.66 264.1,-92.71 263.06,-99.63\"/>\n",
              "</g>\n",
              "<!-- 140212071492304 -->\n",
              "<g id=\"node3\" class=\"node\">\n",
              "<title>140212071492304</title>\n",
              "<polygon fill=\"none\" stroke=\"black\" points=\"740.5,-0.5 740.5,-36.5 973.5,-36.5 973.5,-0.5 740.5,-0.5\"/>\n",
              "<text text-anchor=\"middle\" x=\"751.5\" y=\"-14.8\" font-family=\"Times,serif\" font-size=\"14.00\">f</text>\n",
              "<polyline fill=\"none\" stroke=\"black\" points=\"762.5,-0.5 762.5,-36.5 \"/>\n",
              "<text text-anchor=\"middle\" x=\"816\" y=\"-14.8\" font-family=\"Times,serif\" font-size=\"14.00\">data &#45;2.0000</text>\n",
              "<polyline fill=\"none\" stroke=\"black\" points=\"869.5,-0.5 869.5,-36.5 \"/>\n",
              "<text text-anchor=\"middle\" x=\"921.5\" y=\"-14.8\" font-family=\"Times,serif\" font-size=\"14.00\">grad 0.0000</text>\n",
              "</g>\n",
              "<!-- 140212071491872* -->\n",
              "<g id=\"node5\" class=\"node\">\n",
              "<title>140212071491872*</title>\n",
              "<ellipse fill=\"none\" stroke=\"black\" cx=\"1043\" cy=\"-45.5\" rx=\"27\" ry=\"18\"/>\n",
              "<text text-anchor=\"middle\" x=\"1043\" y=\"-41.8\" font-family=\"Times,serif\" font-size=\"14.00\">*</text>\n",
              "</g>\n",
              "<!-- 140212071492304&#45;&gt;140212071491872* -->\n",
              "<g id=\"edge4\" class=\"edge\">\n",
              "<title>140212071492304&#45;&gt;140212071491872*</title>\n",
              "<path fill=\"none\" stroke=\"black\" d=\"M973.75,-35.48C985.48,-37.21 996.66,-38.85 1006.46,-40.28\"/>\n",
              "<polygon fill=\"black\" stroke=\"black\" points=\"1006.09,-43.77 1016.49,-41.76 1007.11,-36.84 1006.09,-43.77\"/>\n",
              "</g>\n",
              "<!-- 140212071491872 -->\n",
              "<g id=\"node4\" class=\"node\">\n",
              "<title>140212071491872</title>\n",
              "<polygon fill=\"none\" stroke=\"black\" points=\"1106,-27.5 1106,-63.5 1347,-63.5 1347,-27.5 1106,-27.5\"/>\n",
              "<text text-anchor=\"middle\" x=\"1119\" y=\"-41.8\" font-family=\"Times,serif\" font-size=\"14.00\">L</text>\n",
              "<polyline fill=\"none\" stroke=\"black\" points=\"1132,-27.5 1132,-63.5 \"/>\n",
              "<text text-anchor=\"middle\" x=\"1187.5\" y=\"-41.8\" font-family=\"Times,serif\" font-size=\"14.00\">data 20.0000</text>\n",
              "<polyline fill=\"none\" stroke=\"black\" points=\"1243,-27.5 1243,-63.5 \"/>\n",
              "<text text-anchor=\"middle\" x=\"1295\" y=\"-41.8\" font-family=\"Times,serif\" font-size=\"14.00\">grad 0.0000</text>\n",
              "</g>\n",
              "<!-- 140212071491872*&#45;&gt;140212071491872 -->\n",
              "<g id=\"edge1\" class=\"edge\">\n",
              "<title>140212071491872*&#45;&gt;140212071491872</title>\n",
              "<path fill=\"none\" stroke=\"black\" d=\"M1070,-45.5C1077.5,-45.5 1086.22,-45.5 1095.64,-45.5\"/>\n",
              "<polygon fill=\"black\" stroke=\"black\" points=\"1095.68,-49 1105.68,-45.5 1095.68,-42 1095.68,-49\"/>\n",
              "</g>\n",
              "<!-- 140212071491392 -->\n",
              "<g id=\"node6\" class=\"node\">\n",
              "<title>140212071491392</title>\n",
              "<polygon fill=\"none\" stroke=\"black\" points=\"363,-83.5 363,-119.5 608,-119.5 608,-83.5 363,-83.5\"/>\n",
              "<text text-anchor=\"middle\" x=\"375.5\" y=\"-97.8\" font-family=\"Times,serif\" font-size=\"14.00\">e</text>\n",
              "<polyline fill=\"none\" stroke=\"black\" points=\"388,-83.5 388,-119.5 \"/>\n",
              "<text text-anchor=\"middle\" x=\"446\" y=\"-97.8\" font-family=\"Times,serif\" font-size=\"14.00\">data &#45;14.0000</text>\n",
              "<polyline fill=\"none\" stroke=\"black\" points=\"504,-83.5 504,-119.5 \"/>\n",
              "<text text-anchor=\"middle\" x=\"556\" y=\"-97.8\" font-family=\"Times,serif\" font-size=\"14.00\">grad 0.0000</text>\n",
              "</g>\n",
              "<!-- 140212071489520+ -->\n",
              "<g id=\"node10\" class=\"node\">\n",
              "<title>140212071489520+</title>\n",
              "<ellipse fill=\"none\" stroke=\"black\" cx=\"671\" cy=\"-73.5\" rx=\"27\" ry=\"18\"/>\n",
              "<text text-anchor=\"middle\" x=\"671\" y=\"-69.8\" font-family=\"Times,serif\" font-size=\"14.00\">+</text>\n",
              "</g>\n",
              "<!-- 140212071491392&#45;&gt;140212071489520+ -->\n",
              "<g id=\"edge8\" class=\"edge\">\n",
              "<title>140212071491392&#45;&gt;140212071489520+</title>\n",
              "<path fill=\"none\" stroke=\"black\" d=\"M604.53,-83.49C615.23,-81.86 625.41,-80.3 634.42,-78.93\"/>\n",
              "<polygon fill=\"black\" stroke=\"black\" points=\"635.05,-82.37 644.41,-77.4 634,-75.45 635.05,-82.37\"/>\n",
              "</g>\n",
              "<!-- 140212071491392*&#45;&gt;140212071491392 -->\n",
              "<g id=\"edge2\" class=\"edge\">\n",
              "<title>140212071491392*&#45;&gt;140212071491392</title>\n",
              "<path fill=\"none\" stroke=\"black\" d=\"M327.29,-101.5C334.79,-101.5 343.51,-101.5 352.93,-101.5\"/>\n",
              "<polygon fill=\"black\" stroke=\"black\" points=\"352.97,-105 362.97,-101.5 352.97,-98 352.97,-105\"/>\n",
              "</g>\n",
              "<!-- 140212071491920 -->\n",
              "<g id=\"node8\" class=\"node\">\n",
              "<title>140212071491920</title>\n",
              "<polygon fill=\"none\" stroke=\"black\" points=\"370.5,-28.5 370.5,-64.5 600.5,-64.5 600.5,-28.5 370.5,-28.5\"/>\n",
              "<text text-anchor=\"middle\" x=\"382.5\" y=\"-42.8\" font-family=\"Times,serif\" font-size=\"14.00\">c</text>\n",
              "<polyline fill=\"none\" stroke=\"black\" points=\"394.5,-28.5 394.5,-64.5 \"/>\n",
              "<text text-anchor=\"middle\" x=\"445.5\" y=\"-42.8\" font-family=\"Times,serif\" font-size=\"14.00\">data 4.0000</text>\n",
              "<polyline fill=\"none\" stroke=\"black\" points=\"496.5,-28.5 496.5,-64.5 \"/>\n",
              "<text text-anchor=\"middle\" x=\"548.5\" y=\"-42.8\" font-family=\"Times,serif\" font-size=\"14.00\">grad 0.0000</text>\n",
              "</g>\n",
              "<!-- 140212071491920&#45;&gt;140212071489520+ -->\n",
              "<g id=\"edge9\" class=\"edge\">\n",
              "<title>140212071491920&#45;&gt;140212071489520+</title>\n",
              "<path fill=\"none\" stroke=\"black\" d=\"M600.63,-63.29C612.74,-65.08 624.31,-66.78 634.4,-68.26\"/>\n",
              "<polygon fill=\"black\" stroke=\"black\" points=\"633.94,-71.73 644.34,-69.72 634.96,-64.81 633.94,-71.73\"/>\n",
              "</g>\n",
              "<!-- 140212071489520 -->\n",
              "<g id=\"node9\" class=\"node\">\n",
              "<title>140212071489520</title>\n",
              "<polygon fill=\"none\" stroke=\"black\" points=\"734,-55.5 734,-91.5 980,-91.5 980,-55.5 734,-55.5\"/>\n",
              "<text text-anchor=\"middle\" x=\"747\" y=\"-69.8\" font-family=\"Times,serif\" font-size=\"14.00\">d</text>\n",
              "<polyline fill=\"none\" stroke=\"black\" points=\"760,-55.5 760,-91.5 \"/>\n",
              "<text text-anchor=\"middle\" x=\"818\" y=\"-69.8\" font-family=\"Times,serif\" font-size=\"14.00\">data &#45;10.0000</text>\n",
              "<polyline fill=\"none\" stroke=\"black\" points=\"876,-55.5 876,-91.5 \"/>\n",
              "<text text-anchor=\"middle\" x=\"928\" y=\"-69.8\" font-family=\"Times,serif\" font-size=\"14.00\">grad 0.0000</text>\n",
              "</g>\n",
              "<!-- 140212071489520&#45;&gt;140212071491872* -->\n",
              "<g id=\"edge6\" class=\"edge\">\n",
              "<title>140212071489520&#45;&gt;140212071491872*</title>\n",
              "<path fill=\"none\" stroke=\"black\" d=\"M976.35,-55.49C987.08,-53.86 997.29,-52.3 1006.32,-50.93\"/>\n",
              "<polygon fill=\"black\" stroke=\"black\" points=\"1006.98,-54.37 1016.34,-49.4 1005.93,-47.45 1006.98,-54.37\"/>\n",
              "</g>\n",
              "<!-- 140212071489520+&#45;&gt;140212071489520 -->\n",
              "<g id=\"edge3\" class=\"edge\">\n",
              "<title>140212071489520+&#45;&gt;140212071489520</title>\n",
              "<path fill=\"none\" stroke=\"black\" d=\"M698.36,-73.5C705.73,-73.5 714.28,-73.5 723.5,-73.5\"/>\n",
              "<polygon fill=\"black\" stroke=\"black\" points=\"723.75,-77 733.75,-73.5 723.75,-70 723.75,-77\"/>\n",
              "</g>\n",
              "</g>\n",
              "</svg>\n"
            ],
            "text/plain": [
              "<graphviz.graphs.Digraph at 0x7f85aa78ebc0>"
            ]
          },
          "execution_count": 15,
          "metadata": {},
          "output_type": "execute_result"
        }
      ],
      "source": [
        "draw_dot(L)"
      ]
    },
    {
      "cell_type": "code",
      "execution_count": null,
      "metadata": {},
      "outputs": [],
      "source": []
    }
  ],
  "metadata": {
    "colab": {
      "authorship_tag": "ABX9TyMkFzkMgGIvv7Dl9UbGL6VH",
      "provenance": []
    },
    "kernelspec": {
      "display_name": "Python 3",
      "name": "python3"
    },
    "language_info": {
      "codemirror_mode": {
        "name": "ipython",
        "version": 3
      },
      "file_extension": ".py",
      "mimetype": "text/x-python",
      "name": "python",
      "nbconvert_exporter": "python",
      "pygments_lexer": "ipython3",
      "version": "3.10.12"
    }
  },
  "nbformat": 4,
  "nbformat_minor": 0
}
